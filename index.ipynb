{
 "cells": [
  {
   "cell_type": "markdown",
   "metadata": {},
   "source": [
    "# Classification   \n",
    "Thus far we have looked at regression and investigating how we can predict a continuous variable. Another category of problems in data science is to classify class membership. For example, we might want to predict whether or not someone has cancer, whether a video is appropriate for children, or what species an animal is. These problems are fundamentally different in their formulation because of the desired outputs.\n",
    "  \n",
    "The simplest case of this is a binary classification of 0 or 1. Typically 0 stands for 'not a member' while 1 stands for 'is a member'.  \n",
    "\n",
    "Here's some of the most important classification algorithms which we'll investigate in further depth in coming lessons:  \n",
    "\n",
    "* Logistic Regression\n",
    "    * Calculates the probability of class membership using the sigmoid function. Then assigns class membmership.\n",
    "* Decision Trees\n",
    "    * Split the dataset feature by feature according to which feature will improve the accuracy of classification. For example, those with cholosterol higher than a certain value (to be specified using the tree algorithm) have risk for heart disease, those below that value don't incur a risk. Next, you can go onto another feature in the data set, such as age. \n",
    "* Random Forests\n",
    "    * An ensemble method for combining multiple decision trees.\n",
    "* Support Vector Machines\n",
    "    * Draws a decision plane seperating the classes. Maximizes the distance between datapoints and this plane."
   ]
  },
  {
   "cell_type": "markdown",
   "metadata": {},
   "source": [
    "# Regression or Classification?\n",
    "For each of the following scenarios determine whether you would apply a regression or classification algorithm."
   ]
  },
  {
   "cell_type": "markdown",
   "metadata": {},
   "source": [
    "### Determining a child's future height."
   ]
  },
  {
   "cell_type": "code",
   "execution_count": 7,
   "metadata": {},
   "outputs": [],
   "source": [
    "#Regression or Classification?\n",
    "Regression"
   ]
  },
  {
   "cell_type": "markdown",
   "metadata": {},
   "source": [
    "### Determining a child's future career."
   ]
  },
  {
   "cell_type": "code",
   "execution_count": 8,
   "metadata": {},
   "outputs": [],
   "source": [
    "#Regression or Classification?\n",
    "Classification"
   ]
  },
  {
   "cell_type": "markdown",
   "metadata": {},
   "source": [
    "### Determining a car's brand."
   ]
  },
  {
   "cell_type": "code",
   "execution_count": 9,
   "metadata": {},
   "outputs": [],
   "source": [
    "#Regression or Classification?\n",
    "Classification"
   ]
  },
  {
   "cell_type": "markdown",
   "metadata": {},
   "source": [
    "### Determining a car's year."
   ]
  },
  {
   "cell_type": "code",
   "execution_count": 3,
   "metadata": {},
   "outputs": [],
   "source": [
    "#Regression or Classification?\n",
    "# Classification\n",
    "# Solution #This one's a little bit tricky.....could potentially be either...but most likely regression would still be appropriate"
   ]
  },
  {
   "cell_type": "markdown",
   "metadata": {},
   "source": [
    "### Determining a car's mileage."
   ]
  },
  {
   "cell_type": "code",
   "execution_count": 11,
   "metadata": {},
   "outputs": [],
   "source": [
    "#Regression or Classification?\n",
    "Regression"
   ]
  },
  {
   "cell_type": "markdown",
   "metadata": {},
   "source": [
    "### Determining a flower's color."
   ]
  },
  {
   "cell_type": "code",
   "execution_count": 12,
   "metadata": {},
   "outputs": [],
   "source": [
    "#Regression or Classification?\n",
    "Classification"
   ]
  },
  {
   "cell_type": "markdown",
   "metadata": {},
   "source": [
    "### Determining a flower's species."
   ]
  },
  {
   "cell_type": "code",
   "execution_count": 13,
   "metadata": {},
   "outputs": [],
   "source": [
    "#Regression or Classification?\n",
    "Classification"
   ]
  },
  {
   "cell_type": "code",
   "execution_count": null,
   "metadata": {},
   "outputs": [],
   "source": []
  }
 ],
 "metadata": {
  "kernelspec": {
   "display_name": "Python 3",
   "language": "python",
   "name": "python3"
  },
  "language_info": {
   "codemirror_mode": {
    "name": "ipython",
    "version": 3
   },
   "file_extension": ".py",
   "mimetype": "text/x-python",
   "name": "python",
   "nbconvert_exporter": "python",
   "pygments_lexer": "ipython3",
   "version": "3.6.5"
  }
 },
 "nbformat": 4,
 "nbformat_minor": 2
}
